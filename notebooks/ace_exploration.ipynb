{
 "cells": [
  {
   "cell_type": "markdown",
   "metadata": {},
   "source": [
    "# ACE Exploratory Data Analysis\n",
    "\n",
    "Solar wind consists of a flowing stream of plasma, with certain characteristics of the plasma remaining unchanged as it spreads throughout the heliosphere. These stable properties allow for the linkage of direct measurements back to the solar wind's origins in the corona.\n",
    "\n",
    "\n",
    "Ten machine learning classifiers to be explored:\n",
    "- *k*-nearest neigbors \n",
    "- Linear support vector machine\n",
    "- SVM with Gaussian radial basis function kernel\n",
    "- Decision tree\n",
    "- Random forest\n",
    "- Adaptive Boosting\n",
    "- Neural network\n",
    "- Gaussian naive bayes\n",
    "- Quadratic discriminant analysis\n",
    "- eXtreme Gradient Boosting\n",
    "\n",
    "\n",
    "Xu and Borovsky (2015) showed that the solar wind can generally be classified into four major types: coronal-hole-origin plasma (CHOP), streamer belt plasma (SBP), sector-reversal-region plasma (SRRP), and ejecta (EJECT).\n",
    "| Solar Wind Type | Acronym |\n",
    "|-----------------|---------|\n",
    "| Coronal-Hole-Origin Plasma | CHOP |\n",
    "| Streamer Belt Plasma | SBP |\n",
    "| Sector-Reversal-Region Plasma | SRRP |\n",
    "| Ejecta | EJECT |\n"
   ]
  },
  {
   "cell_type": "code",
   "execution_count": null,
   "metadata": {},
   "outputs": [],
   "source": []
  }
 ],
 "metadata": {
  "language_info": {
   "name": "python"
  }
 },
 "nbformat": 4,
 "nbformat_minor": 2
}
