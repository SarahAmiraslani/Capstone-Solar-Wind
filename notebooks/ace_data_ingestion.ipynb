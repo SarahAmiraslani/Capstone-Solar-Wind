{
 "cells": [
  {
   "cell_type": "markdown",
   "metadata": {},
   "source": [
    "There are nine scientific instruments on ACE to make the comprehensive and coordinated in situ measurements to accomplish the scientific objectives. These instruments are: High Resolution Spectrometers CRIS Cosmic Ray Isotope Spectrometer SIS Solar Isotope Spectrometer ULEIS Ultra Low Energy Isotope Spectrometer SEPICA Solar Energetic Particle Ionic Charge Analyzer SWICS Solar Wind Ion Composition Spectrometer SWIMS Cosmic Ray Isotope Spectrometer Solar Isotope Spectrometer Ultra Low Energy Isotope Spectrometer Solar Energetic Particle Ionic Charge Analyzer Solar Wind Ion Composition Spectrometer Solar Wind Ion Mass Spectrometer Monitoring Instruments EPAM Electron, Proton and Alpha Monitor SWEPAM Solar Wind Electron, Proton and Alpha Monitor MAG Magnetic Field Monitor\n"
   ]
  },
  {
   "cell_type": "code",
   "execution_count": null,
   "metadata": {},
   "outputs": [],
   "source": [
    "import spacepy\n",
    "import cdflib\n"
   ]
  },
  {
   "cell_type": "markdown",
   "metadata": {},
   "source": [
    "There are nine scientific instruments on ACE to make the comprehensive and coordinated in situ measurements to accomplish the scientific objectives.\n",
    "\n",
    "These instruments are:\n",
    "\n",
    "High Resolution Spectrometers\n",
    "\n",
    "- CRIS Cosmic Ray Isotope Spectrometer\n",
    "- SIS Solar Isotope Spectrometer\n",
    "- ULEIS Ultra Low Energy Isotope Spectrometer\n",
    "- SEPICA Solar Energetic Particle Ionic Charge Analyzer\n",
    "- SWICS Solar Wind Ion Composition Spectrometer\n",
    "- SWIMS Solar Wind Ion Mass Spectrometer\n",
    "\n",
    "Monitoring Instruments\n",
    "\n",
    "- EPAM Electron, Proton and Alpha Monitor\n",
    "- SWEPAM Solar Wind Electron, Proton and Alpha Monitor\n",
    "- MAG Magnetic Field Moniotor\n",
    "\n",
    "All open-source ACE data are formatted using hierarchical data format (HDF). The data are organized by instrument and by time-averaging periods. Data from each instrument are stored in separate HDF data files, and separate HDF files also contain the data from the different averaging periods. For most of the instruments, the data are averaged hourly, daily, and per 27 days (1 Bartels rotation).\n",
    "\n",
    "About Hierarchical Data Formats\n",
    "Hierarchical Data Formats (HDF) are open source file formats that support large, complex, heterogeneous data.\n",
    "\n",
    "HDF files use a “file directory” like structure that allows you to organize data within the file in many different structured ways, as you might do with files on your computer. HDF files also allow for embedding of metadata making them self-describing.\n",
    "\n",
    "\n",
    "\n"
   ]
  },
  {
   "cell_type": "code",
   "execution_count": null,
   "metadata": {},
   "outputs": [],
   "source": []
  },
  {
   "cell_type": "code",
   "execution_count": null,
   "metadata": {},
   "outputs": [],
   "source": [
    "!pip install h5py\n"
   ]
  },
  {
   "cell_type": "code",
   "execution_count": null,
   "metadata": {},
   "outputs": [],
   "source": [
    "import h5py\n",
    "\n",
    "# Open the HDF5 file\n",
    "file_path = '/workspaces/Capstone-Solar-Wind/data/ACE/EPAM/epam_data_1day_2240.hdf'\n",
    "with h5py.File(file_path, 'r') as f:\n",
    "    # List all groups\n",
    "    print(\"Keys: %s\" % f.keys())\n",
    "    a_group_key = list(f.keys())[0]\n",
    "    \n",
    "    # Get the data\n",
    "    data = list(f[a_group_key])\n",
    "    print(data)\n"
   ]
  },
  {
   "cell_type": "code",
   "execution_count": null,
   "metadata": {},
   "outputs": [],
   "source": [
    "import tables\n",
    "file = tables.open_file(file_path, mode='r')\n"
   ]
  },
  {
   "cell_type": "code",
   "execution_count": null,
   "metadata": {},
   "outputs": [],
   "source": [
    "from pyhdf.SD import SD, SDC\n",
    "f = SD(file_path, SDC.READ)\n"
   ]
  },
  {
   "cell_type": "code",
   "execution_count": null,
   "metadata": {},
   "outputs": [],
   "source": [
    "f.info()\n"
   ]
  },
  {
   "cell_type": "code",
   "execution_count": null,
   "metadata": {},
   "outputs": [],
   "source": [
    "cdf_file_path =  '/workspaces/Capstone-Solar-Wind/notebooks/pydata/mms1/fgm/srvy/l2/2015/10/mms1_fgm_srvy_l2_20151016_v4.18.0.cdf'\n",
    "cdf = spacepy.pycdf.CDF(cdf_file_path)\n",
    "\n",
    "print(cdf.keys())\n"
   ]
  },
  {
   "cell_type": "code",
   "execution_count": null,
   "metadata": {},
   "outputs": [],
   "source": [
    "from spacepy import pycdf\n"
   ]
  },
  {
   "cell_type": "code",
   "execution_count": null,
   "metadata": {},
   "outputs": [],
   "source": [
    "import astropy\n",
    "\n",
    "astropy.__file__\n"
   ]
  },
  {
   "cell_type": "code",
   "execution_count": null,
   "metadata": {},
   "outputs": [],
   "source": []
  },
  {
   "cell_type": "code",
   "execution_count": null,
   "metadata": {},
   "outputs": [],
   "source": [
    "!ls /workspaces/Capstone-Solar-Wind/env/lib/python3.10/site-packages/\n"
   ]
  },
  {
   "cell_type": "code",
   "execution_count": null,
   "metadata": {},
   "outputs": [],
   "source": [
    "!pip list\n"
   ]
  },
  {
   "cell_type": "code",
   "execution_count": null,
   "metadata": {},
   "outputs": [],
   "source": [
    "\n"
   ]
  },
  {
   "cell_type": "code",
   "execution_count": null,
   "metadata": {},
   "outputs": [],
   "source": [
    "/workspaces/Capstone-Solar-Wind/env/lib/python3.10/site-packages/\n"
   ]
  }
 ],
 "metadata": {
  "kernelspec": {
   "display_name": "env",
   "language": "python",
   "name": "python3"
  },
  "language_info": {
   "codemirror_mode": {
    "name": "ipython",
    "version": 3
   },
   "file_extension": ".py",
   "mimetype": "text/x-python",
   "name": "python",
   "nbconvert_exporter": "python",
   "pygments_lexer": "ipython3",
   "version": "3.10.13"
  }
 },
 "nbformat": 4,
 "nbformat_minor": 2
}
