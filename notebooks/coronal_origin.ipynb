{
 "cells": [
  {
   "cell_type": "markdown",
   "metadata": {},
   "source": [
    "# Classifying Coronal Origin\n",
    "Xu and Borovsky (2015) showed that the solar wind can generally be classified into four major types:\n",
    "\n",
    "| Solar Wind Type | Acronym |\n",
    "|-----------------|---------|\n",
    "| Coronal-Hole-Origin Plasma | CHOP |\n",
    "| Streamer Belt Plasma | SBP |\n",
    "| Sector-Reversal-Region Plasma | SRRP |\n",
    "| Ejecta | EJECT |\n",
    "\n",
    "\n",
    "Zhao et al (2017) \n",
    "Different solar wind types exhibit unique in situ properties such as proton speed, ion charge states, and elemental composition, which reflect the characteristics of their source regions in the corona.\n",
    "\n",
    "- **Active Region (AR) Wind**: Solar wind originating from active regions characterized by higher energy and magnetic activity.\n",
    "- **AR-Boundary Wind**: Wind that emanates from the boundaries of active regions, which often exhibit transitional properties between active and quieter solar areas.\n",
    "- **Quiet Sun (QS) Wind**: Wind originating from areas of the Sun with lower magnetic activity, typically quieter and less variable than those from active regions.\n",
    "- **Coronal Hole (CH) Wind**: Emanates from coronal holes, which are regions on the Sun's surface with open magnetic fields and lower density and temperature, often associated with fast solar wind streams.\n",
    "- **CH-Boundary Wind**: Wind from the edges of coronal holes, where the solar wind properties may be influenced by interactions between the open magnetic fields of the coronal holes and the surrounding field structures.\n",
    "- **Helmet-Streamer Associated Wind**: Solar wind associated with helmet streamers, which are large, bright loops of plasma that extend outward from the Sun's surface, often found at the top of closed magnetic loops near active regions. Helmet streamers are typically associated with slow solar wind."
   ]
  },
  {
   "cell_type": "markdown",
   "metadata": {},
   "source": [
    "## Clustering"
   ]
  },
  {
   "cell_type": "markdown",
   "metadata": {},
   "source": [
    "### K-Means"
   ]
  },
  {
   "cell_type": "markdown",
   "metadata": {},
   "source": [
    "### Bayesian Gaussian Mixture (BGM)"
   ]
  }
 ],
 "metadata": {
  "kernelspec": {
   "display_name": "env",
   "language": "python",
   "name": "python3"
  },
  "language_info": {
   "codemirror_mode": {
    "name": "ipython",
    "version": 3
   },
   "file_extension": ".py",
   "mimetype": "text/x-python",
   "name": "python",
   "nbconvert_exporter": "python",
   "pygments_lexer": "ipython3",
   "version": "3.10.10"
  }
 },
 "nbformat": 4,
 "nbformat_minor": 2
}
